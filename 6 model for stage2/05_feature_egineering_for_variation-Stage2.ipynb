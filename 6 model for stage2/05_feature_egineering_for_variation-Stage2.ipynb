{
 "cells": [
  {
   "cell_type": "code",
   "execution_count": 3,
   "metadata": {
    "collapsed": true
   },
   "outputs": [],
   "source": [
    "import numpy as np\n",
    "import pandas as pd"
   ]
  },
  {
   "cell_type": "code",
   "execution_count": 4,
   "metadata": {
    "collapsed": true
   },
   "outputs": [],
   "source": [
    "dir ='/root/JupyterNotebook/kaggle-Redefining-Cancer-Treatment'"
   ]
  },
  {
   "cell_type": "code",
   "execution_count": 6,
   "metadata": {
    "collapsed": false
   },
   "outputs": [],
   "source": [
    "train = pd.read_csv(dir+'/4 input for stage2/training_variants.csv')\n",
    "test = pd.read_csv(dir+'/4 input for stage2/test_variants.csv')\n",
    "test['Class'] = 0"
   ]
  },
  {
   "cell_type": "code",
   "execution_count": 7,
   "metadata": {
    "collapsed": false
   },
   "outputs": [
    {
     "data": {
      "text/html": [
       "<div>\n",
       "<style>\n",
       "    .dataframe thead tr:only-child th {\n",
       "        text-align: right;\n",
       "    }\n",
       "\n",
       "    .dataframe thead th {\n",
       "        text-align: left;\n",
       "    }\n",
       "\n",
       "    .dataframe tbody tr th {\n",
       "        vertical-align: top;\n",
       "    }\n",
       "</style>\n",
       "<table border=\"1\" class=\"dataframe\">\n",
       "  <thead>\n",
       "    <tr style=\"text-align: right;\">\n",
       "      <th></th>\n",
       "      <th>ID</th>\n",
       "      <th>Gene</th>\n",
       "      <th>Variation</th>\n",
       "      <th>Class</th>\n",
       "    </tr>\n",
       "  </thead>\n",
       "  <tbody>\n",
       "    <tr>\n",
       "      <th>0</th>\n",
       "      <td>0</td>\n",
       "      <td>FAM58A</td>\n",
       "      <td>Truncating Mutations</td>\n",
       "      <td>1</td>\n",
       "    </tr>\n",
       "    <tr>\n",
       "      <th>1</th>\n",
       "      <td>1</td>\n",
       "      <td>CBL</td>\n",
       "      <td>W802*</td>\n",
       "      <td>2</td>\n",
       "    </tr>\n",
       "    <tr>\n",
       "      <th>2</th>\n",
       "      <td>2</td>\n",
       "      <td>CBL</td>\n",
       "      <td>Q249E</td>\n",
       "      <td>2</td>\n",
       "    </tr>\n",
       "    <tr>\n",
       "      <th>3</th>\n",
       "      <td>3</td>\n",
       "      <td>CBL</td>\n",
       "      <td>N454D</td>\n",
       "      <td>3</td>\n",
       "    </tr>\n",
       "    <tr>\n",
       "      <th>4</th>\n",
       "      <td>4</td>\n",
       "      <td>CBL</td>\n",
       "      <td>L399V</td>\n",
       "      <td>4</td>\n",
       "    </tr>\n",
       "  </tbody>\n",
       "</table>\n",
       "</div>"
      ],
      "text/plain": [
       "   ID    Gene             Variation  Class\n",
       "0   0  FAM58A  Truncating Mutations      1\n",
       "1   1     CBL                 W802*      2\n",
       "2   2     CBL                 Q249E      2\n",
       "3   3     CBL                 N454D      3\n",
       "4   4     CBL                 L399V      4"
      ]
     },
     "execution_count": 7,
     "metadata": {},
     "output_type": "execute_result"
    }
   ],
   "source": [
    "train.head()"
   ]
  },
  {
   "cell_type": "code",
   "execution_count": 8,
   "metadata": {
    "collapsed": false
   },
   "outputs": [
    {
     "data": {
      "text/html": [
       "<div>\n",
       "<style>\n",
       "    .dataframe thead tr:only-child th {\n",
       "        text-align: right;\n",
       "    }\n",
       "\n",
       "    .dataframe thead th {\n",
       "        text-align: left;\n",
       "    }\n",
       "\n",
       "    .dataframe tbody tr th {\n",
       "        vertical-align: top;\n",
       "    }\n",
       "</style>\n",
       "<table border=\"1\" class=\"dataframe\">\n",
       "  <thead>\n",
       "    <tr style=\"text-align: right;\">\n",
       "      <th></th>\n",
       "      <th>ID</th>\n",
       "      <th>Gene</th>\n",
       "      <th>Variation</th>\n",
       "      <th>Class</th>\n",
       "    </tr>\n",
       "  </thead>\n",
       "  <tbody>\n",
       "    <tr>\n",
       "      <th>0</th>\n",
       "      <td>3</td>\n",
       "      <td>WNT4</td>\n",
       "      <td>E216G</td>\n",
       "      <td>0</td>\n",
       "    </tr>\n",
       "    <tr>\n",
       "      <th>1</th>\n",
       "      <td>4</td>\n",
       "      <td>SUCLA2</td>\n",
       "      <td>G118R</td>\n",
       "      <td>0</td>\n",
       "    </tr>\n",
       "    <tr>\n",
       "      <th>2</th>\n",
       "      <td>6</td>\n",
       "      <td>CHEK2</td>\n",
       "      <td>E239K</td>\n",
       "      <td>0</td>\n",
       "    </tr>\n",
       "    <tr>\n",
       "      <th>3</th>\n",
       "      <td>7</td>\n",
       "      <td>CHST3</td>\n",
       "      <td>T141M</td>\n",
       "      <td>0</td>\n",
       "    </tr>\n",
       "    <tr>\n",
       "      <th>4</th>\n",
       "      <td>8</td>\n",
       "      <td>RNF6</td>\n",
       "      <td>G244D</td>\n",
       "      <td>0</td>\n",
       "    </tr>\n",
       "  </tbody>\n",
       "</table>\n",
       "</div>"
      ],
      "text/plain": [
       "   ID    Gene Variation  Class\n",
       "0   3    WNT4     E216G      0\n",
       "1   4  SUCLA2     G118R      0\n",
       "2   6   CHEK2     E239K      0\n",
       "3   7   CHST3     T141M      0\n",
       "4   8    RNF6     G244D      0"
      ]
     },
     "execution_count": 8,
     "metadata": {},
     "output_type": "execute_result"
    }
   ],
   "source": [
    "test.head()"
   ]
  },
  {
   "cell_type": "code",
   "execution_count": 9,
   "metadata": {
    "collapsed": false
   },
   "outputs": [
    {
     "name": "stdout",
     "output_type": "stream",
     "text": [
      "Train shape     (3689, 4)\n",
      "Test shape      (619, 4)\n"
     ]
    }
   ],
   "source": [
    "print(\"Train shape\".ljust(15), train.shape)\n",
    "print(\"Test shape\".ljust(15), test.shape)"
   ]
  },
  {
   "cell_type": "code",
   "execution_count": 10,
   "metadata": {
    "collapsed": false
   },
   "outputs": [
    {
     "name": "stdout",
     "output_type": "stream",
     "text": [
      "269 train unique Genes\n"
     ]
    }
   ],
   "source": [
    "genes_train = set(train[\"Gene\"])\n",
    "print(\"%i train unique Genes\" %(len(genes_train)))"
   ]
  },
  {
   "cell_type": "code",
   "execution_count": 11,
   "metadata": {
    "collapsed": false
   },
   "outputs": [
    {
     "name": "stdout",
     "output_type": "stream",
     "text": [
      "167 test unique Genes\n"
     ]
    }
   ],
   "source": [
    "genes_test = set(test[\"Gene\"])\n",
    "print(\"%i test unique Genes\" %(len(genes_test)))"
   ]
  },
  {
   "cell_type": "code",
   "execution_count": 12,
   "metadata": {
    "collapsed": false
   },
   "outputs": [
    {
     "name": "stdout",
     "output_type": "stream",
     "text": [
      "3309 train unique Variations\n"
     ]
    }
   ],
   "source": [
    "variations_train = set(train[\"Variation\"])\n",
    "print(\"%i train unique Variations\" %(len(variations_train)))"
   ]
  },
  {
   "cell_type": "code",
   "execution_count": 13,
   "metadata": {
    "collapsed": false
   },
   "outputs": [
    {
     "name": "stdout",
     "output_type": "stream",
     "text": [
      "617 test unique Variations\n"
     ]
    }
   ],
   "source": [
    "variations_test = set(test[\"Variation\"])\n",
    "print(\"%i test unique Variations\" %(len(variations_test)))"
   ]
  },
  {
   "cell_type": "code",
   "execution_count": 14,
   "metadata": {
    "collapsed": false
   },
   "outputs": [
    {
     "name": "stdout",
     "output_type": "stream",
     "text": [
      "35 shared genes in train and test\n"
     ]
    }
   ],
   "source": [
    "genes_shared = genes_train&genes_test\n",
    "print(\"%i shared genes in train and test\" %(len(genes_shared)))"
   ]
  },
  {
   "cell_type": "code",
   "execution_count": 15,
   "metadata": {
    "collapsed": false
   },
   "outputs": [
    {
     "name": "stdout",
     "output_type": "stream",
     "text": [
      "5 shared variations in train and test\n"
     ]
    }
   ],
   "source": [
    "variations_shared = variations_train&variations_test\n",
    "print(\"%i shared variations in train and test\" %(len(variations_shared)))"
   ]
  },
  {
   "cell_type": "code",
   "execution_count": 16,
   "metadata": {
    "collapsed": false
   },
   "outputs": [
    {
     "name": "stdout",
     "output_type": "stream",
     "text": [
      "{'E322K', 'D32H', 'G244D', 'G13R', 'Q61K'}\n"
     ]
    }
   ],
   "source": [
    "print(variations_shared)"
   ]
  },
  {
   "cell_type": "code",
   "execution_count": 17,
   "metadata": {
    "collapsed": false
   },
   "outputs": [
    {
     "name": "stdout",
     "output_type": "stream",
     "text": [
      "[('BRCA1', 293), ('TP53', 182), ('EGFR', 157), ('PTEN', 140), ('BRCA2', 139), ('KIT', 110), ('BRAF', 104), ('ALK', 77), ('ERBB2', 76), ('PDGFRA', 67)]\n"
     ]
    }
   ],
   "source": [
    "from collections import Counter\n",
    "top_gene_train = Counter(train[\"Gene\"]).most_common(10)\n",
    "print(top_gene_train)"
   ]
  },
  {
   "cell_type": "code",
   "execution_count": 18,
   "metadata": {
    "collapsed": false
   },
   "outputs": [
    {
     "name": "stdout",
     "output_type": "stream",
     "text": [
      "[('SCN4A', 26), ('TP53', 21), ('TSHR', 21), ('TP63', 16), ('LRP5', 13), ('SCN9A', 13), ('EGFR', 13), ('GNE', 13), ('ADAMTS13', 12), ('CLDN16', 12)]\n"
     ]
    }
   ],
   "source": [
    "top_gene_test = Counter(test[\"Gene\"]).most_common(10)\n",
    "print(top_gene_test)"
   ]
  },
  {
   "cell_type": "code",
   "execution_count": 19,
   "metadata": {
    "collapsed": false
   },
   "outputs": [
    {
     "name": "stdout",
     "output_type": "stream",
     "text": [
      "[('Truncating Mutations', 111), ('Deletion', 88), ('Amplification', 79), ('Fusions', 37), ('Overexpression', 6), ('Q61R', 4), ('G12V', 4), ('G12D', 3), ('G12C', 3), ('Q61H', 3)]\n"
     ]
    }
   ],
   "source": [
    "top_variation_train = Counter(train[\"Variation\"]).most_common(10)\n",
    "print(top_variation_train)"
   ]
  },
  {
   "cell_type": "code",
   "execution_count": 20,
   "metadata": {
    "collapsed": false
   },
   "outputs": [
    {
     "name": "stdout",
     "output_type": "stream",
     "text": [
      "[('G13R', 2), ('G13S', 2), ('Q300R', 1), ('R669H', 1), ('S180N', 1), ('S241A', 1), ('P63H', 1), ('R155P', 1), ('V1589M', 1), ('L274H', 1)]\n"
     ]
    }
   ],
   "source": [
    "top_variation_test = Counter(test[\"Variation\"]).most_common(10)\n",
    "print(top_variation_test)"
   ]
  },
  {
   "cell_type": "markdown",
   "metadata": {},
   "source": [
    "# next generate more var info"
   ]
  },
  {
   "cell_type": "code",
   "execution_count": 21,
   "metadata": {
    "collapsed": false
   },
   "outputs": [
    {
     "name": "stdout",
     "output_type": "stream",
     "text": [
      "train+test rows: 4308\n"
     ]
    }
   ],
   "source": [
    "df_joint = pd.concat([train,test], ignore_index=True)\n",
    "print(\"train+test rows:\",df_joint.shape[0])\n"
   ]
  },
  {
   "cell_type": "code",
   "execution_count": 22,
   "metadata": {
    "collapsed": false
   },
   "outputs": [
    {
     "data": {
      "text/html": [
       "<div>\n",
       "<style>\n",
       "    .dataframe thead tr:only-child th {\n",
       "        text-align: right;\n",
       "    }\n",
       "\n",
       "    .dataframe thead th {\n",
       "        text-align: left;\n",
       "    }\n",
       "\n",
       "    .dataframe tbody tr th {\n",
       "        vertical-align: top;\n",
       "    }\n",
       "</style>\n",
       "<table border=\"1\" class=\"dataframe\">\n",
       "  <thead>\n",
       "    <tr style=\"text-align: right;\">\n",
       "      <th></th>\n",
       "      <th>ID</th>\n",
       "      <th>Gene</th>\n",
       "      <th>Variation</th>\n",
       "      <th>Class</th>\n",
       "    </tr>\n",
       "  </thead>\n",
       "  <tbody>\n",
       "    <tr>\n",
       "      <th>4303</th>\n",
       "      <td>982</td>\n",
       "      <td>TP63</td>\n",
       "      <td>S580P</td>\n",
       "      <td>0</td>\n",
       "    </tr>\n",
       "    <tr>\n",
       "      <th>4304</th>\n",
       "      <td>983</td>\n",
       "      <td>SCN4A</td>\n",
       "      <td>R672G</td>\n",
       "      <td>0</td>\n",
       "    </tr>\n",
       "    <tr>\n",
       "      <th>4305</th>\n",
       "      <td>984</td>\n",
       "      <td>BRAF</td>\n",
       "      <td>N581H</td>\n",
       "      <td>0</td>\n",
       "    </tr>\n",
       "    <tr>\n",
       "      <th>4306</th>\n",
       "      <td>985</td>\n",
       "      <td>TSHR</td>\n",
       "      <td>S281N</td>\n",
       "      <td>0</td>\n",
       "    </tr>\n",
       "    <tr>\n",
       "      <th>4307</th>\n",
       "      <td>986</td>\n",
       "      <td>ASS1</td>\n",
       "      <td>S180N</td>\n",
       "      <td>0</td>\n",
       "    </tr>\n",
       "  </tbody>\n",
       "</table>\n",
       "</div>"
      ],
      "text/plain": [
       "       ID   Gene Variation  Class\n",
       "4303  982   TP63     S580P      0\n",
       "4304  983  SCN4A     R672G      0\n",
       "4305  984   BRAF     N581H      0\n",
       "4306  985   TSHR     S281N      0\n",
       "4307  986   ASS1     S180N      0"
      ]
     },
     "execution_count": 22,
     "metadata": {},
     "output_type": "execute_result"
    }
   ],
   "source": [
    "df_joint.tail()"
   ]
  },
  {
   "cell_type": "code",
   "execution_count": 23,
   "metadata": {
    "collapsed": false
   },
   "outputs": [],
   "source": [
    "import re\n",
    "rule_basic = re.compile(r'^([a-z\\*])(\\d{1,7})([a-z\\*])$',)\n",
    "truncating_list = ['truncating mutations','trunc']\n",
    "delins_list = ['insertions/deletions','deletion/insertion','delins']\n",
    "fusion_list = ['fusions','fusion','fus','fs*','fs']\n",
    "deletion_list = ['deletions','deletion','del']\n",
    "ins_list = ['insertions','insertion','ins']\n",
    "amplification_list = ['amplification']\n",
    "overexpression_list = ['overexpression']\n",
    "splice_list = ['splice']\n",
    "duplication_list = ['duplications','duplication','dup']\n",
    "lookup_list = [truncating_list, delins_list, fusion_list, deletion_list,ins_list, \n",
    "               amplification_list, overexpression_list,splice_list, duplication_list ]\n",
    "operation_list = ['truncating', 'delins','fusion', 'deletion', 'insertion', 'amplification', \n",
    "                   'overexpression','splice','duplication']\n",
    "unused_list = ['mutations','_','-']\n",
    "\n",
    "def var_to_pattern(variation):\n",
    "    variation = variation.replace('null','*')\n",
    "    variation = variation.lower()\n",
    "    result = {'first_letter':'none','location_number':0,'last_letter':'none','operation':'other','other_text':'none'}\n",
    "    words = variation.split(' ')\n",
    "    i = len(words)\n",
    "    m = re.match(rule_basic,words[0])\n",
    "    if i == 1 and m:\n",
    "        #substitution case\n",
    "        result['operation'] = 'substitution'\n",
    "        if m.group(1) != '*':\n",
    "            result['first_letter'] = m.group(1)\n",
    "        result['location_number'] = m.group(2)\n",
    "        if m.group(3) != '*':\n",
    "            result['last_letter'] = m.group(3)\n",
    "    else:\n",
    "        flag = False\n",
    "        temp_txt = variation\n",
    "        for index,item in enumerate(lookup_list):\n",
    "            for x in item:\n",
    "                if x in temp_txt:\n",
    "                    flag = True\n",
    "                    result['operation'] = operation_list[index]\n",
    "                    temp_txt = variation.replace(x,' ')\n",
    "                    break\n",
    "            if flag:break\n",
    "        #for rest text\n",
    "        if not temp_txt.isspace():\n",
    "            for x in unused_list:\n",
    "                temp_txt = temp_txt.replace(x,' ')\n",
    "            if not temp_txt.isspace():\n",
    "                temp_txt = temp_txt.strip()\n",
    "                temp_words = temp_txt.split(' ')\n",
    "                if len(temp_words) != 1 :\n",
    "                    if len(temp_words[-1]) < 3:\n",
    "                        del temp_words[-1]\n",
    "                temp_txt = ' '.join(temp_words)\n",
    "                result['other_text'] = temp_txt\n",
    "        \n",
    "    return result"
   ]
  },
  {
   "cell_type": "code",
   "execution_count": 24,
   "metadata": {
    "collapsed": false
   },
   "outputs": [],
   "source": [
    "pattern = df_joint[\"Variation\"].apply(var_to_pattern)"
   ]
  },
  {
   "cell_type": "code",
   "execution_count": 25,
   "metadata": {
    "collapsed": true
   },
   "outputs": [],
   "source": [
    "pattern_df = pd.DataFrame(list(pattern))"
   ]
  },
  {
   "cell_type": "code",
   "execution_count": 26,
   "metadata": {
    "collapsed": false
   },
   "outputs": [],
   "source": [
    "done_df = pd.concat([df_joint,pattern_df],axis=1)"
   ]
  },
  {
   "cell_type": "code",
   "execution_count": 27,
   "metadata": {
    "collapsed": true
   },
   "outputs": [],
   "source": [
    "done_df.to_csv(dir+'/5 middle for stage2/var_done.csv', index=False)"
   ]
  },
  {
   "cell_type": "code",
   "execution_count": 29,
   "metadata": {
    "collapsed": false
   },
   "outputs": [
    {
     "data": {
      "text/html": [
       "<div>\n",
       "<style>\n",
       "    .dataframe thead tr:only-child th {\n",
       "        text-align: right;\n",
       "    }\n",
       "\n",
       "    .dataframe thead th {\n",
       "        text-align: left;\n",
       "    }\n",
       "\n",
       "    .dataframe tbody tr th {\n",
       "        vertical-align: top;\n",
       "    }\n",
       "</style>\n",
       "<table border=\"1\" class=\"dataframe\">\n",
       "  <thead>\n",
       "    <tr style=\"text-align: right;\">\n",
       "      <th></th>\n",
       "      <th>ID</th>\n",
       "      <th>Gene</th>\n",
       "      <th>Variation</th>\n",
       "      <th>Class</th>\n",
       "      <th>first_letter</th>\n",
       "      <th>last_letter</th>\n",
       "      <th>location_number</th>\n",
       "      <th>operation</th>\n",
       "      <th>other_text</th>\n",
       "    </tr>\n",
       "  </thead>\n",
       "  <tbody>\n",
       "    <tr>\n",
       "      <th>4303</th>\n",
       "      <td>982</td>\n",
       "      <td>TP63</td>\n",
       "      <td>S580P</td>\n",
       "      <td>0</td>\n",
       "      <td>s</td>\n",
       "      <td>p</td>\n",
       "      <td>580</td>\n",
       "      <td>substitution</td>\n",
       "      <td>none</td>\n",
       "    </tr>\n",
       "    <tr>\n",
       "      <th>4304</th>\n",
       "      <td>983</td>\n",
       "      <td>SCN4A</td>\n",
       "      <td>R672G</td>\n",
       "      <td>0</td>\n",
       "      <td>r</td>\n",
       "      <td>g</td>\n",
       "      <td>672</td>\n",
       "      <td>substitution</td>\n",
       "      <td>none</td>\n",
       "    </tr>\n",
       "    <tr>\n",
       "      <th>4305</th>\n",
       "      <td>984</td>\n",
       "      <td>BRAF</td>\n",
       "      <td>N581H</td>\n",
       "      <td>0</td>\n",
       "      <td>n</td>\n",
       "      <td>h</td>\n",
       "      <td>581</td>\n",
       "      <td>substitution</td>\n",
       "      <td>none</td>\n",
       "    </tr>\n",
       "    <tr>\n",
       "      <th>4306</th>\n",
       "      <td>985</td>\n",
       "      <td>TSHR</td>\n",
       "      <td>S281N</td>\n",
       "      <td>0</td>\n",
       "      <td>s</td>\n",
       "      <td>n</td>\n",
       "      <td>281</td>\n",
       "      <td>substitution</td>\n",
       "      <td>none</td>\n",
       "    </tr>\n",
       "    <tr>\n",
       "      <th>4307</th>\n",
       "      <td>986</td>\n",
       "      <td>ASS1</td>\n",
       "      <td>S180N</td>\n",
       "      <td>0</td>\n",
       "      <td>s</td>\n",
       "      <td>n</td>\n",
       "      <td>180</td>\n",
       "      <td>substitution</td>\n",
       "      <td>none</td>\n",
       "    </tr>\n",
       "  </tbody>\n",
       "</table>\n",
       "</div>"
      ],
      "text/plain": [
       "       ID   Gene Variation  Class first_letter last_letter location_number  \\\n",
       "4303  982   TP63     S580P      0            s           p             580   \n",
       "4304  983  SCN4A     R672G      0            r           g             672   \n",
       "4305  984   BRAF     N581H      0            n           h             581   \n",
       "4306  985   TSHR     S281N      0            s           n             281   \n",
       "4307  986   ASS1     S180N      0            s           n             180   \n",
       "\n",
       "         operation other_text  \n",
       "4303  substitution       none  \n",
       "4304  substitution       none  \n",
       "4305  substitution       none  \n",
       "4306  substitution       none  \n",
       "4307  substitution       none  "
      ]
     },
     "execution_count": 29,
     "metadata": {},
     "output_type": "execute_result"
    }
   ],
   "source": [
    "done_df.tail()"
   ]
  },
  {
   "cell_type": "code",
   "execution_count": null,
   "metadata": {
    "collapsed": true
   },
   "outputs": [],
   "source": []
  }
 ],
 "metadata": {
  "anaconda-cloud": {},
  "kernelspec": {
   "display_name": "Python [default]",
   "language": "python",
   "name": "python3"
  },
  "language_info": {
   "codemirror_mode": {
    "name": "ipython",
    "version": 3
   },
   "file_extension": ".py",
   "mimetype": "text/x-python",
   "name": "python",
   "nbconvert_exporter": "python",
   "pygments_lexer": "ipython3",
   "version": "3.5.2"
  }
 },
 "nbformat": 4,
 "nbformat_minor": 1
}
