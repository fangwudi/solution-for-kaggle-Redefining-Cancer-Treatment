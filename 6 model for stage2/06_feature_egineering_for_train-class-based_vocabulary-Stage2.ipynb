{
 "cells": [
  {
   "cell_type": "code",
   "execution_count": 1,
   "metadata": {
    "collapsed": true
   },
   "outputs": [],
   "source": [
    "import numpy as np\n",
    "import pandas as pd\n",
    "from textblob import TextBlob\n",
    "from collections import defaultdict\n",
    "from collections import Counter\n",
    "import copy"
   ]
  },
  {
   "cell_type": "code",
   "execution_count": 2,
   "metadata": {
    "collapsed": true
   },
   "outputs": [],
   "source": [
    "dir ='/root/JupyterNotebook/kaggle-Redefining-Cancer-Treatment'"
   ]
  },
  {
   "cell_type": "code",
   "execution_count": 5,
   "metadata": {
    "collapsed": false
   },
   "outputs": [],
   "source": [
    "train_cleantxt = pd.read_csv(dir+'/5 middle for stage2/train_cleantxt.txt')\n",
    "train_genevar = pd.read_csv(dir+'/4 input for stage2/training_variants.csv')\n"
   ]
  },
  {
   "cell_type": "code",
   "execution_count": 6,
   "metadata": {
    "collapsed": false
   },
   "outputs": [
    {
     "data": {
      "text/html": [
       "<div>\n",
       "<style>\n",
       "    .dataframe thead tr:only-child th {\n",
       "        text-align: right;\n",
       "    }\n",
       "\n",
       "    .dataframe thead th {\n",
       "        text-align: left;\n",
       "    }\n",
       "\n",
       "    .dataframe tbody tr th {\n",
       "        vertical-align: top;\n",
       "    }\n",
       "</style>\n",
       "<table border=\"1\" class=\"dataframe\">\n",
       "  <thead>\n",
       "    <tr style=\"text-align: right;\">\n",
       "      <th></th>\n",
       "      <th>ID</th>\n",
       "      <th>CleanText</th>\n",
       "      <th>Class</th>\n",
       "    </tr>\n",
       "  </thead>\n",
       "  <tbody>\n",
       "    <tr>\n",
       "      <th>3684</th>\n",
       "      <td>15600</td>\n",
       "      <td>systematic characterization somatic mutation c...</td>\n",
       "      <td>4</td>\n",
       "    </tr>\n",
       "    <tr>\n",
       "      <th>3685</th>\n",
       "      <td>15609</td>\n",
       "      <td>von hippel-lindau tumor suppressor protein pvh...</td>\n",
       "      <td>4</td>\n",
       "    </tr>\n",
       "    <tr>\n",
       "      <th>3686</th>\n",
       "      <td>15626</td>\n",
       "      <td>genetic alteration activate mitogen-activated ...</td>\n",
       "      <td>6</td>\n",
       "    </tr>\n",
       "    <tr>\n",
       "      <th>3687</th>\n",
       "      <td>15628</td>\n",
       "      <td>abstract functional consequence missense varia...</td>\n",
       "      <td>4</td>\n",
       "    </tr>\n",
       "    <tr>\n",
       "      <th>3688</th>\n",
       "      <td>15650</td>\n",
       "      <td>transcription factor tumor suppressor protein ...</td>\n",
       "      <td>1</td>\n",
       "    </tr>\n",
       "  </tbody>\n",
       "</table>\n",
       "</div>"
      ],
      "text/plain": [
       "         ID                                          CleanText  Class\n",
       "3684  15600  systematic characterization somatic mutation c...      4\n",
       "3685  15609  von hippel-lindau tumor suppressor protein pvh...      4\n",
       "3686  15626  genetic alteration activate mitogen-activated ...      6\n",
       "3687  15628  abstract functional consequence missense varia...      4\n",
       "3688  15650  transcription factor tumor suppressor protein ...      1"
      ]
     },
     "execution_count": 6,
     "metadata": {},
     "output_type": "execute_result"
    }
   ],
   "source": [
    "train_classtxt = pd.concat([train_cleantxt,train_genevar['Class']],axis=1)\n",
    "train_classtxt.tail()"
   ]
  },
  {
   "cell_type": "code",
   "execution_count": 7,
   "metadata": {
    "collapsed": false
   },
   "outputs": [
    {
     "name": "stdout",
     "output_type": "stream",
     "text": [
      "2856\n",
      "2784\n",
      "2190\n",
      "2895\n",
      "2340\n",
      "2383\n",
      "3293\n",
      "1500\n",
      "2964\n",
      "6562\n"
     ]
    }
   ],
   "source": [
    "\n",
    "new_word_freq_allclass=[]\n",
    "for i in range(9):\n",
    "    t = i+1\n",
    "    classdoc_df = train_classtxt['CleanText'][train_classtxt['Class']== t]\n",
    "    word_freq_list=[]\n",
    "    doc_number = len(classdoc_df)\n",
    "    for doc in classdoc_df:\n",
    "        word_freq = defaultdict(int)\n",
    "        doc = TextBlob(doc)\n",
    "        words = doc.words\n",
    "        for word in words:\n",
    "            word_freq[word] += 1\n",
    "        word_freq_list.append(word_freq)\n",
    "        \n",
    "    word_freq_all = Counter()\n",
    "    for index,word_f in enumerate(word_freq_list):\n",
    "        if index == 0:\n",
    "            word_freq_all = Counter(word_f)\n",
    "        else:\n",
    "            word_freq_all += Counter(word_f)\n",
    "            \n",
    "    new_word_freq_all = copy.deepcopy(word_freq_all) \n",
    "    new_word_freq_list=[]\n",
    "    for word_freq in word_freq_list:\n",
    "        new_word_freq = defaultdict(int)\n",
    "        for word,count in word_freq.items():\n",
    "            if word_freq_all[word] <=  3*count or word_freq_all[word] <= doc_number/5 :\n",
    "                del new_word_freq_all[word]\n",
    "            else:\n",
    "                new_word_freq[word] = count\n",
    "        new_word_freq_list.append(new_word_freq)\n",
    "    \n",
    "    print(len(new_word_freq_all)) \n",
    "    new_word_freq_allclass.append(new_word_freq_all)\n",
    "\n",
    "word_freq_allclass = Counter()\n",
    "for index,word_f in enumerate(new_word_freq_allclass):\n",
    "        if index == 0:\n",
    "            word_freq_allclass = Counter(word_f)\n",
    "        else:\n",
    "            word_freq_allclass += Counter(word_f)\n",
    "\n",
    "print(len(word_freq_allclass))"
   ]
  },
  {
   "cell_type": "code",
   "execution_count": 8,
   "metadata": {
    "collapsed": true
   },
   "outputs": [],
   "source": [
    "import pickle\n",
    "pickle.dump(word_freq_allclass, open(dir+'/5 middle for stage2/'+'word_freq_all_data', 'wb'))"
   ]
  },
  {
   "cell_type": "code",
   "execution_count": null,
   "metadata": {
    "collapsed": true
   },
   "outputs": [],
   "source": []
  }
 ],
 "metadata": {
  "anaconda-cloud": {},
  "kernelspec": {
   "display_name": "Python [default]",
   "language": "python",
   "name": "python3"
  },
  "language_info": {
   "codemirror_mode": {
    "name": "ipython",
    "version": 3
   },
   "file_extension": ".py",
   "mimetype": "text/x-python",
   "name": "python",
   "nbconvert_exporter": "python",
   "pygments_lexer": "ipython3",
   "version": "3.5.2"
  }
 },
 "nbformat": 4,
 "nbformat_minor": 1
}
