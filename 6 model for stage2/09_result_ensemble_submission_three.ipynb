{
 "cells": [
  {
   "cell_type": "code",
   "execution_count": 1,
   "metadata": {
    "collapsed": true
   },
   "outputs": [],
   "source": [
    "import numpy as np\n",
    "import pandas as pd"
   ]
  },
  {
   "cell_type": "code",
   "execution_count": 2,
   "metadata": {
    "collapsed": true
   },
   "outputs": [],
   "source": [
    "dir ='/root/JupyterNotebook/kaggle-Redefining-Cancer-Treatment'"
   ]
  },
  {
   "cell_type": "code",
   "execution_count": 3,
   "metadata": {
    "collapsed": true
   },
   "outputs": [],
   "source": [
    "s1 = pd.read_csv(dir+'/result/stage2/double_valca_lightgbm.csv')"
   ]
  },
  {
   "cell_type": "code",
   "execution_count": 4,
   "metadata": {
    "collapsed": true
   },
   "outputs": [],
   "source": [
    "s1 = s1.set_index('ID')"
   ]
  },
  {
   "cell_type": "code",
   "execution_count": 5,
   "metadata": {
    "collapsed": true
   },
   "outputs": [],
   "source": [
    "s2 = pd.read_csv(dir+'/result/stage2/double_valca_svm.csv')"
   ]
  },
  {
   "cell_type": "code",
   "execution_count": 6,
   "metadata": {
    "collapsed": true
   },
   "outputs": [],
   "source": [
    "s2 = s2.set_index('ID')"
   ]
  },
  {
   "cell_type": "code",
   "execution_count": 7,
   "metadata": {
    "collapsed": true
   },
   "outputs": [],
   "source": [
    "s3 = pd.read_csv(dir+'/result/stage2/double_valca_e0.02_depth6_delta5.csv')\n",
    "s3 = s3.set_index('ID')"
   ]
  },
  {
   "cell_type": "code",
   "execution_count": 8,
   "metadata": {
    "collapsed": true
   },
   "outputs": [],
   "source": [
    "s = (s1 + s2 + s3)/3"
   ]
  },
  {
   "cell_type": "code",
   "execution_count": 9,
   "metadata": {
    "collapsed": true
   },
   "outputs": [],
   "source": [
    "s = s.reset_index()"
   ]
  },
  {
   "cell_type": "code",
   "execution_count": 10,
   "metadata": {
    "collapsed": false
   },
   "outputs": [
    {
     "data": {
      "text/html": [
       "<div>\n",
       "<style>\n",
       "    .dataframe thead tr:only-child th {\n",
       "        text-align: right;\n",
       "    }\n",
       "\n",
       "    .dataframe thead th {\n",
       "        text-align: left;\n",
       "    }\n",
       "\n",
       "    .dataframe tbody tr th {\n",
       "        vertical-align: top;\n",
       "    }\n",
       "</style>\n",
       "<table border=\"1\" class=\"dataframe\">\n",
       "  <thead>\n",
       "    <tr style=\"text-align: right;\">\n",
       "      <th></th>\n",
       "      <th>ID</th>\n",
       "      <th>class1</th>\n",
       "      <th>class2</th>\n",
       "      <th>class3</th>\n",
       "      <th>class4</th>\n",
       "      <th>class5</th>\n",
       "      <th>class6</th>\n",
       "      <th>class7</th>\n",
       "      <th>class8</th>\n",
       "      <th>class9</th>\n",
       "    </tr>\n",
       "  </thead>\n",
       "  <tbody>\n",
       "    <tr>\n",
       "      <th>0</th>\n",
       "      <td>3</td>\n",
       "      <td>0.065118</td>\n",
       "      <td>0.244959</td>\n",
       "      <td>0.011457</td>\n",
       "      <td>0.090627</td>\n",
       "      <td>0.025906</td>\n",
       "      <td>0.053655</td>\n",
       "      <td>0.496522</td>\n",
       "      <td>0.007239</td>\n",
       "      <td>0.004517</td>\n",
       "    </tr>\n",
       "    <tr>\n",
       "      <th>1</th>\n",
       "      <td>4</td>\n",
       "      <td>0.135106</td>\n",
       "      <td>0.173466</td>\n",
       "      <td>0.010496</td>\n",
       "      <td>0.189869</td>\n",
       "      <td>0.025409</td>\n",
       "      <td>0.050267</td>\n",
       "      <td>0.396017</td>\n",
       "      <td>0.010919</td>\n",
       "      <td>0.008450</td>\n",
       "    </tr>\n",
       "    <tr>\n",
       "      <th>2</th>\n",
       "      <td>6</td>\n",
       "      <td>0.260479</td>\n",
       "      <td>0.054614</td>\n",
       "      <td>0.013414</td>\n",
       "      <td>0.378797</td>\n",
       "      <td>0.131606</td>\n",
       "      <td>0.049996</td>\n",
       "      <td>0.099109</td>\n",
       "      <td>0.005751</td>\n",
       "      <td>0.006235</td>\n",
       "    </tr>\n",
       "    <tr>\n",
       "      <th>3</th>\n",
       "      <td>7</td>\n",
       "      <td>0.034702</td>\n",
       "      <td>0.102911</td>\n",
       "      <td>0.005003</td>\n",
       "      <td>0.021886</td>\n",
       "      <td>0.016686</td>\n",
       "      <td>0.006154</td>\n",
       "      <td>0.805419</td>\n",
       "      <td>0.005128</td>\n",
       "      <td>0.002111</td>\n",
       "    </tr>\n",
       "    <tr>\n",
       "      <th>4</th>\n",
       "      <td>8</td>\n",
       "      <td>0.303689</td>\n",
       "      <td>0.083832</td>\n",
       "      <td>0.015248</td>\n",
       "      <td>0.416983</td>\n",
       "      <td>0.034266</td>\n",
       "      <td>0.102636</td>\n",
       "      <td>0.030709</td>\n",
       "      <td>0.005659</td>\n",
       "      <td>0.006978</td>\n",
       "    </tr>\n",
       "  </tbody>\n",
       "</table>\n",
       "</div>"
      ],
      "text/plain": [
       "   ID    class1    class2    class3    class4    class5    class6    class7  \\\n",
       "0   3  0.065118  0.244959  0.011457  0.090627  0.025906  0.053655  0.496522   \n",
       "1   4  0.135106  0.173466  0.010496  0.189869  0.025409  0.050267  0.396017   \n",
       "2   6  0.260479  0.054614  0.013414  0.378797  0.131606  0.049996  0.099109   \n",
       "3   7  0.034702  0.102911  0.005003  0.021886  0.016686  0.006154  0.805419   \n",
       "4   8  0.303689  0.083832  0.015248  0.416983  0.034266  0.102636  0.030709   \n",
       "\n",
       "     class8    class9  \n",
       "0  0.007239  0.004517  \n",
       "1  0.010919  0.008450  \n",
       "2  0.005751  0.006235  \n",
       "3  0.005128  0.002111  \n",
       "4  0.005659  0.006978  "
      ]
     },
     "execution_count": 10,
     "metadata": {},
     "output_type": "execute_result"
    }
   ],
   "source": [
    "s.head()"
   ]
  },
  {
   "cell_type": "code",
   "execution_count": 11,
   "metadata": {
    "collapsed": false
   },
   "outputs": [],
   "source": [
    "s.to_csv(dir+'/result/stage2/ensemble_three.csv', index=False)"
   ]
  },
  {
   "cell_type": "code",
   "execution_count": null,
   "metadata": {
    "collapsed": true
   },
   "outputs": [],
   "source": []
  }
 ],
 "metadata": {
  "anaconda-cloud": {},
  "kernelspec": {
   "display_name": "Python [default]",
   "language": "python",
   "name": "python3"
  },
  "language_info": {
   "codemirror_mode": {
    "name": "ipython",
    "version": 3
   },
   "file_extension": ".py",
   "mimetype": "text/x-python",
   "name": "python",
   "nbconvert_exporter": "python",
   "pygments_lexer": "ipython3",
   "version": "3.5.2"
  }
 },
 "nbformat": 4,
 "nbformat_minor": 1
}
