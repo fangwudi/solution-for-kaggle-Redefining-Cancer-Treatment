{
 "cells": [
  {
   "cell_type": "code",
   "execution_count": 1,
   "metadata": {
    "collapsed": true
   },
   "outputs": [],
   "source": [
    "import numpy as np\n",
    "import pandas as pd"
   ]
  },
  {
   "cell_type": "code",
   "execution_count": 2,
   "metadata": {
    "collapsed": true
   },
   "outputs": [],
   "source": [
    "dir ='/root/JupyterNotebook/kaggle-Redefining-Cancer-Treatment'"
   ]
  },
  {
   "cell_type": "code",
   "execution_count": 3,
   "metadata": {
    "collapsed": false
   },
   "outputs": [],
   "source": [
    "train_txt = pd.read_csv(dir+'/4 input for stage2/training_txt.csv')"
   ]
  },
  {
   "cell_type": "code",
   "execution_count": 4,
   "metadata": {
    "collapsed": true
   },
   "outputs": [],
   "source": [
    "test_txt = pd.read_csv(dir+'/4 input for stage2/test_txt.csv')"
   ]
  },
  {
   "cell_type": "code",
   "execution_count": 5,
   "metadata": {
    "collapsed": true
   },
   "outputs": [],
   "source": [
    "# define filter word function\n",
    "from sklearn.feature_extraction.text import ENGLISH_STOP_WORDS as sw\n",
    "\n",
    "stopWords = ['fig','figure', 'et', 'al', 'table', 'i.e', 'i.e.'] + list(sw)\n",
    "\n",
    "def isnumeric(s):\n",
    "    '''returns True if string s is numeric'''\n",
    "    return all(c in \"0123456789.+-,≥≤–/±\" for c in s)\n",
    "\n",
    "def filterword(wordlist):\n",
    "    result = []\n",
    "    for word in wordlist:\n",
    "        if (word not in stopWords) and (not isnumeric(word)) and len(word)>2:\n",
    "            result.append(word)\n",
    "    return result"
   ]
  },
  {
   "cell_type": "code",
   "execution_count": 6,
   "metadata": {
    "collapsed": true
   },
   "outputs": [],
   "source": [
    "# re for special split sentence\n",
    "import re\n",
    "redotrepl1 = re.compile(r'[a-zA-Z].\\d\\s')\n",
    "redotrepl3 = re.compile(r'.\\(\\d')\n",
    "def dotrepl1(matchobj):\n",
    "    return matchobj.group(0).replace('.', '. ')\n",
    "redotrepl2 = re.compile(r'.\\d.\\d\\s')\n",
    "def dotrepl2(matchobj):\n",
    "    s = matchobj.group(0)[::-1]\n",
    "    s = s.replace('.', ' .',1)\n",
    "    return s[::-1]\n",
    "refigrepl1 =re.compile(r'[fF]ig[ure]{0,3}\\s\\d.')\n",
    "refigrepl2 =re.compile(r'[fF]ig[ure]{0,3}.')\n",
    "def figrepl(matchobj):\n",
    "    return ' '\n",
    "def reall(str_in):\n",
    "    stemp = redotrepl1.sub(dotrepl1, str_in)\n",
    "    stemp = redotrepl2.sub(dotrepl2, stemp)\n",
    "    stemp = redotrepl3.sub(dotrepl1, stemp)\n",
    "    stemp = refigrepl1.sub(figrepl, stemp)\n",
    "    stemp = refigrepl2.sub(figrepl, stemp)\n",
    "    return stemp"
   ]
  },
  {
   "cell_type": "code",
   "execution_count": 7,
   "metadata": {
    "collapsed": true
   },
   "outputs": [],
   "source": [
    "# define clean function\n",
    "from textblob import TextBlob\n",
    "from textblob import Word\n",
    "\n",
    "def cleandoc(doc):\n",
    "    doc = reall(doc)\n",
    "    doc = TextBlob(doc)\n",
    "    sentences = doc.sentences\n",
    "    txt = []\n",
    "    for st in sentences:\n",
    "        st = st.lower()       \n",
    "        tag = st.tags\n",
    "        w_list = []\n",
    "        for word,pos in tag:\n",
    "            if pos[0:2] == 'VB':\n",
    "                w_list.append(word.lemmatize(\"v\"))\n",
    "            else:\n",
    "                w_list.append(word.lemmatize())\n",
    "        fw = filterword(w_list)\n",
    "        sent = ' '.join(fw)\n",
    "        txt.append(sent)\n",
    "    result = ' . '.join(txt)\n",
    "    if result == '':\n",
    "        result = 'none'     \n",
    "    return result"
   ]
  },
  {
   "cell_type": "code",
   "execution_count": 8,
   "metadata": {
    "collapsed": false
   },
   "outputs": [],
   "source": [
    "#train\n",
    "temp_doc = pd.Series(train_txt.apply(lambda r:cleandoc(r['Text']), axis=1),name='CleanText')\n",
    "train_cleantxt = pd.concat([train_txt['ID'],temp_doc],axis=1)\n",
    "train_cleantxt.to_csv(dir+'/5 middle for stage2/train_cleantxt.txt', index=False)\n",
    "\n",
    "#test\n",
    "temp_doc = pd.Series(test_txt.apply(lambda r:cleandoc(r['Text']), axis=1),name='CleanText')\n",
    "test_cleantxt = pd.concat([test_txt['ID'],temp_doc],axis=1)\n",
    "test_cleantxt.to_csv(dir+'/5 middle for stage2/test_cleantxt.txt', index=False)"
   ]
  },
  {
   "cell_type": "code",
   "execution_count": null,
   "metadata": {
    "collapsed": true
   },
   "outputs": [],
   "source": []
  }
 ],
 "metadata": {
  "anaconda-cloud": {},
  "kernelspec": {
   "display_name": "Python [default]",
   "language": "python",
   "name": "python3"
  },
  "language_info": {
   "codemirror_mode": {
    "name": "ipython",
    "version": 3
   },
   "file_extension": ".py",
   "mimetype": "text/x-python",
   "name": "python",
   "nbconvert_exporter": "python",
   "pygments_lexer": "ipython3",
   "version": "3.5.2"
  }
 },
 "nbformat": 4,
 "nbformat_minor": 1
}
