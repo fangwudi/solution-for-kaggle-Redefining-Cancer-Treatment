{
 "cells": [
  {
   "cell_type": "code",
   "execution_count": 1,
   "metadata": {
    "collapsed": true
   },
   "outputs": [],
   "source": [
    "import numpy as np\n",
    "import pandas as pd"
   ]
  },
  {
   "cell_type": "code",
   "execution_count": 2,
   "metadata": {
    "collapsed": true
   },
   "outputs": [],
   "source": [
    "dir ='/root/JupyterNotebook/kaggle-Redefining-Cancer-Treatment'"
   ]
  },
  {
   "cell_type": "code",
   "execution_count": 3,
   "metadata": {
    "collapsed": false
   },
   "outputs": [],
   "source": [
    "train_cleantxt = pd.read_csv(dir+'/5 middle for stage2/train_cleantxt.txt')\n",
    "test_cleantxt = pd.read_csv(dir+'/5 middle for stage2/test_cleantxt.txt')"
   ]
  },
  {
   "cell_type": "code",
   "execution_count": 4,
   "metadata": {
    "collapsed": false
   },
   "outputs": [
    {
     "name": "stdout",
     "output_type": "stream",
     "text": [
      "3689\n"
     ]
    }
   ],
   "source": [
    "train_len = len(train_cleantxt)\n",
    "print(train_len)"
   ]
  },
  {
   "cell_type": "code",
   "execution_count": 5,
   "metadata": {
    "collapsed": true
   },
   "outputs": [],
   "source": [
    "df_all = pd.concat((train_cleantxt, test_cleantxt), axis=0, ignore_index=True)"
   ]
  },
  {
   "cell_type": "code",
   "execution_count": 6,
   "metadata": {
    "collapsed": false
   },
   "outputs": [
    {
     "data": {
      "text/html": [
       "<div>\n",
       "<style>\n",
       "    .dataframe thead tr:only-child th {\n",
       "        text-align: right;\n",
       "    }\n",
       "\n",
       "    .dataframe thead th {\n",
       "        text-align: left;\n",
       "    }\n",
       "\n",
       "    .dataframe tbody tr th {\n",
       "        vertical-align: top;\n",
       "    }\n",
       "</style>\n",
       "<table border=\"1\" class=\"dataframe\">\n",
       "  <thead>\n",
       "    <tr style=\"text-align: right;\">\n",
       "      <th></th>\n",
       "      <th>ID</th>\n",
       "      <th>CleanText</th>\n",
       "    </tr>\n",
       "  </thead>\n",
       "  <tbody>\n",
       "    <tr>\n",
       "      <th>4303</th>\n",
       "      <td>982</td>\n",
       "      <td>iκb kinase ikkβ involve tumor development prog...</td>\n",
       "    </tr>\n",
       "    <tr>\n",
       "      <th>4304</th>\n",
       "      <td>983</td>\n",
       "      <td>identification subtype-specific translocation ...</td>\n",
       "    </tr>\n",
       "    <tr>\n",
       "      <th>4305</th>\n",
       "      <td>984</td>\n",
       "      <td>cardio-facio-cutaneous cfc syndrome mim congen...</td>\n",
       "    </tr>\n",
       "    <tr>\n",
       "      <th>4306</th>\n",
       "      <td>985</td>\n",
       "      <td>screen tumor suppressor gene breast cancer rev...</td>\n",
       "    </tr>\n",
       "    <tr>\n",
       "      <th>4307</th>\n",
       "      <td>986</td>\n",
       "      <td>histiocytic neoplasm clonal hematopoietic diso...</td>\n",
       "    </tr>\n",
       "  </tbody>\n",
       "</table>\n",
       "</div>"
      ],
      "text/plain": [
       "       ID                                          CleanText\n",
       "4303  982  iκb kinase ikkβ involve tumor development prog...\n",
       "4304  983  identification subtype-specific translocation ...\n",
       "4305  984  cardio-facio-cutaneous cfc syndrome mim congen...\n",
       "4306  985  screen tumor suppressor gene breast cancer rev...\n",
       "4307  986  histiocytic neoplasm clonal hematopoietic diso..."
      ]
     },
     "execution_count": 6,
     "metadata": {},
     "output_type": "execute_result"
    }
   ],
   "source": [
    "df_all.tail()"
   ]
  },
  {
   "cell_type": "code",
   "execution_count": 7,
   "metadata": {
    "collapsed": true
   },
   "outputs": [],
   "source": [
    "variation_done_all = pd.read_csv(dir+'/5 middle for stage2/var_done.csv', )"
   ]
  },
  {
   "cell_type": "code",
   "execution_count": 8,
   "metadata": {
    "collapsed": true
   },
   "outputs": [],
   "source": [
    "variation_done_all['CleanText'] = df_all['CleanText']"
   ]
  },
  {
   "cell_type": "code",
   "execution_count": 9,
   "metadata": {
    "collapsed": true
   },
   "outputs": [],
   "source": [
    "df_pre_all = variation_done_all.drop(['Class'], axis=1)"
   ]
  },
  {
   "cell_type": "code",
   "execution_count": 10,
   "metadata": {
    "collapsed": false
   },
   "outputs": [],
   "source": [
    "df_pre_all['Gene'] = df_pre_all['Gene'].map(str.lower)\n",
    "df_pre_all['Variation'] = df_pre_all['Variation'].map(str.lower)\n"
   ]
  },
  {
   "cell_type": "code",
   "execution_count": 11,
   "metadata": {
    "collapsed": false
   },
   "outputs": [
    {
     "data": {
      "text/html": [
       "<div>\n",
       "<style>\n",
       "    .dataframe thead tr:only-child th {\n",
       "        text-align: right;\n",
       "    }\n",
       "\n",
       "    .dataframe thead th {\n",
       "        text-align: left;\n",
       "    }\n",
       "\n",
       "    .dataframe tbody tr th {\n",
       "        vertical-align: top;\n",
       "    }\n",
       "</style>\n",
       "<table border=\"1\" class=\"dataframe\">\n",
       "  <thead>\n",
       "    <tr style=\"text-align: right;\">\n",
       "      <th></th>\n",
       "      <th>ID</th>\n",
       "      <th>Gene</th>\n",
       "      <th>Variation</th>\n",
       "      <th>first_letter</th>\n",
       "      <th>last_letter</th>\n",
       "      <th>location_number</th>\n",
       "      <th>operation</th>\n",
       "      <th>other_text</th>\n",
       "      <th>CleanText</th>\n",
       "    </tr>\n",
       "  </thead>\n",
       "  <tbody>\n",
       "    <tr>\n",
       "      <th>0</th>\n",
       "      <td>0</td>\n",
       "      <td>fam58a</td>\n",
       "      <td>truncating mutations</td>\n",
       "      <td>none</td>\n",
       "      <td>none</td>\n",
       "      <td>0</td>\n",
       "      <td>truncating</td>\n",
       "      <td>none</td>\n",
       "      <td>cyclin-dependent kinase cdks regulate variety ...</td>\n",
       "    </tr>\n",
       "    <tr>\n",
       "      <th>1</th>\n",
       "      <td>1</td>\n",
       "      <td>cbl</td>\n",
       "      <td>w802*</td>\n",
       "      <td>w</td>\n",
       "      <td>none</td>\n",
       "      <td>802</td>\n",
       "      <td>substitution</td>\n",
       "      <td>none</td>\n",
       "      <td>abstract background non-small cell lung cancer...</td>\n",
       "    </tr>\n",
       "    <tr>\n",
       "      <th>2</th>\n",
       "      <td>2</td>\n",
       "      <td>cbl</td>\n",
       "      <td>q249e</td>\n",
       "      <td>q</td>\n",
       "      <td>e</td>\n",
       "      <td>249</td>\n",
       "      <td>substitution</td>\n",
       "      <td>none</td>\n",
       "      <td>abstract background non-small cell lung cancer...</td>\n",
       "    </tr>\n",
       "    <tr>\n",
       "      <th>3</th>\n",
       "      <td>3</td>\n",
       "      <td>cbl</td>\n",
       "      <td>n454d</td>\n",
       "      <td>n</td>\n",
       "      <td>d</td>\n",
       "      <td>454</td>\n",
       "      <td>substitution</td>\n",
       "      <td>none</td>\n",
       "      <td>recent evidence demonstrate acquire uniparenta...</td>\n",
       "    </tr>\n",
       "    <tr>\n",
       "      <th>4</th>\n",
       "      <td>4</td>\n",
       "      <td>cbl</td>\n",
       "      <td>l399v</td>\n",
       "      <td>l</td>\n",
       "      <td>v</td>\n",
       "      <td>399</td>\n",
       "      <td>substitution</td>\n",
       "      <td>none</td>\n",
       "      <td>oncogenic mutation monomeric casitas b-lineage...</td>\n",
       "    </tr>\n",
       "  </tbody>\n",
       "</table>\n",
       "</div>"
      ],
      "text/plain": [
       "   ID    Gene             Variation first_letter last_letter  location_number  \\\n",
       "0   0  fam58a  truncating mutations         none        none                0   \n",
       "1   1     cbl                 w802*            w        none              802   \n",
       "2   2     cbl                 q249e            q           e              249   \n",
       "3   3     cbl                 n454d            n           d              454   \n",
       "4   4     cbl                 l399v            l           v              399   \n",
       "\n",
       "      operation other_text                                          CleanText  \n",
       "0    truncating       none  cyclin-dependent kinase cdks regulate variety ...  \n",
       "1  substitution       none  abstract background non-small cell lung cancer...  \n",
       "2  substitution       none  abstract background non-small cell lung cancer...  \n",
       "3  substitution       none  recent evidence demonstrate acquire uniparenta...  \n",
       "4  substitution       none  oncogenic mutation monomeric casitas b-lineage...  "
      ]
     },
     "execution_count": 11,
     "metadata": {},
     "output_type": "execute_result"
    }
   ],
   "source": [
    "df_pre_all.head()"
   ]
  },
  {
   "cell_type": "code",
   "execution_count": 12,
   "metadata": {
    "collapsed": false
   },
   "outputs": [
    {
     "data": {
      "text/html": [
       "<div>\n",
       "<style>\n",
       "    .dataframe thead tr:only-child th {\n",
       "        text-align: right;\n",
       "    }\n",
       "\n",
       "    .dataframe thead th {\n",
       "        text-align: left;\n",
       "    }\n",
       "\n",
       "    .dataframe tbody tr th {\n",
       "        vertical-align: top;\n",
       "    }\n",
       "</style>\n",
       "<table border=\"1\" class=\"dataframe\">\n",
       "  <thead>\n",
       "    <tr style=\"text-align: right;\">\n",
       "      <th></th>\n",
       "      <th>ID</th>\n",
       "      <th>Gene</th>\n",
       "      <th>Variation</th>\n",
       "      <th>first_letter</th>\n",
       "      <th>last_letter</th>\n",
       "      <th>location_number</th>\n",
       "      <th>operation</th>\n",
       "      <th>other_text</th>\n",
       "      <th>CleanText</th>\n",
       "    </tr>\n",
       "  </thead>\n",
       "  <tbody>\n",
       "    <tr>\n",
       "      <th>4303</th>\n",
       "      <td>982</td>\n",
       "      <td>tp63</td>\n",
       "      <td>s580p</td>\n",
       "      <td>s</td>\n",
       "      <td>p</td>\n",
       "      <td>580</td>\n",
       "      <td>substitution</td>\n",
       "      <td>none</td>\n",
       "      <td>iκb kinase ikkβ involve tumor development prog...</td>\n",
       "    </tr>\n",
       "    <tr>\n",
       "      <th>4304</th>\n",
       "      <td>983</td>\n",
       "      <td>scn4a</td>\n",
       "      <td>r672g</td>\n",
       "      <td>r</td>\n",
       "      <td>g</td>\n",
       "      <td>672</td>\n",
       "      <td>substitution</td>\n",
       "      <td>none</td>\n",
       "      <td>identification subtype-specific translocation ...</td>\n",
       "    </tr>\n",
       "    <tr>\n",
       "      <th>4305</th>\n",
       "      <td>984</td>\n",
       "      <td>braf</td>\n",
       "      <td>n581h</td>\n",
       "      <td>n</td>\n",
       "      <td>h</td>\n",
       "      <td>581</td>\n",
       "      <td>substitution</td>\n",
       "      <td>none</td>\n",
       "      <td>cardio-facio-cutaneous cfc syndrome mim congen...</td>\n",
       "    </tr>\n",
       "    <tr>\n",
       "      <th>4306</th>\n",
       "      <td>985</td>\n",
       "      <td>tshr</td>\n",
       "      <td>s281n</td>\n",
       "      <td>s</td>\n",
       "      <td>n</td>\n",
       "      <td>281</td>\n",
       "      <td>substitution</td>\n",
       "      <td>none</td>\n",
       "      <td>screen tumor suppressor gene breast cancer rev...</td>\n",
       "    </tr>\n",
       "    <tr>\n",
       "      <th>4307</th>\n",
       "      <td>986</td>\n",
       "      <td>ass1</td>\n",
       "      <td>s180n</td>\n",
       "      <td>s</td>\n",
       "      <td>n</td>\n",
       "      <td>180</td>\n",
       "      <td>substitution</td>\n",
       "      <td>none</td>\n",
       "      <td>histiocytic neoplasm clonal hematopoietic diso...</td>\n",
       "    </tr>\n",
       "  </tbody>\n",
       "</table>\n",
       "</div>"
      ],
      "text/plain": [
       "       ID   Gene Variation first_letter last_letter  location_number  \\\n",
       "4303  982   tp63     s580p            s           p              580   \n",
       "4304  983  scn4a     r672g            r           g              672   \n",
       "4305  984   braf     n581h            n           h              581   \n",
       "4306  985   tshr     s281n            s           n              281   \n",
       "4307  986   ass1     s180n            s           n              180   \n",
       "\n",
       "         operation other_text  \\\n",
       "4303  substitution       none   \n",
       "4304  substitution       none   \n",
       "4305  substitution       none   \n",
       "4306  substitution       none   \n",
       "4307  substitution       none   \n",
       "\n",
       "                                              CleanText  \n",
       "4303  iκb kinase ikkβ involve tumor development prog...  \n",
       "4304  identification subtype-specific translocation ...  \n",
       "4305  cardio-facio-cutaneous cfc syndrome mim congen...  \n",
       "4306  screen tumor suppressor gene breast cancer rev...  \n",
       "4307  histiocytic neoplasm clonal hematopoietic diso...  "
      ]
     },
     "execution_count": 12,
     "metadata": {},
     "output_type": "execute_result"
    }
   ],
   "source": [
    "df_pre_all.tail()"
   ]
  },
  {
   "cell_type": "code",
   "execution_count": 13,
   "metadata": {
    "collapsed": false
   },
   "outputs": [],
   "source": [
    "# label encoder\n",
    "from sklearn import preprocessing\n",
    "for c in df_pre_all.columns:\n",
    "    if df_pre_all[c].dtype == 'object':\n",
    "        if c == 'Gene':\n",
    "            lbl = preprocessing.LabelEncoder()\n",
    "            df_pre_all[c+'_lbl_enc'] = lbl.fit_transform(df_pre_all[c].values)  \n",
    "            df_pre_all[c+'_len'] = df_pre_all[c].map(lambda x: len(str(x)))\n",
    "        elif c == 'Variation':\n",
    "            lbl = preprocessing.LabelEncoder()\n",
    "            df_pre_all[c+'_lbl_enc'] = lbl.fit_transform(df_pre_all[c].values)  \n",
    "            df_pre_all[c+'_len'] = df_pre_all[c].map(lambda x: len(str(x)))\n",
    "            df_pre_all[c+'_words'] = df_pre_all[c].map(lambda x: len(str(x).split(' ')))\n",
    "        elif c in ['CleanText','other_text']: \n",
    "            df_pre_all[c+'_len'] = df_pre_all[c].map(lambda x: len(str(x)))\n",
    "            df_pre_all[c+'_words'] = df_pre_all[c].map(lambda x: len(str(x).split(' '))) "
   ]
  },
  {
   "cell_type": "code",
   "execution_count": 18,
   "metadata": {
    "collapsed": true
   },
   "outputs": [],
   "source": [
    "def save(filename, contents): \n",
    "    fh = open(filename, 'w') \n",
    "    fh.write(contents) \n",
    "    fh.close() "
   ]
  },
  {
   "cell_type": "code",
   "execution_count": 16,
   "metadata": {
    "collapsed": false
   },
   "outputs": [],
   "source": [
    "#one-hot for var-first and last letter,and operation\n",
    "df_pre_all = pd.concat([df_pre_all, pd.get_dummies(df_pre_all['first_letter']).\\\n",
    "                        rename(columns=lambda x: 'firstletter_' + str(x))], axis=1)"
   ]
  },
  {
   "cell_type": "code",
   "execution_count": 17,
   "metadata": {
    "collapsed": true
   },
   "outputs": [],
   "source": [
    "df_pre_all = pd.concat([df_pre_all, pd.get_dummies(df_pre_all['last_letter']).\\\n",
    "                        rename(columns=lambda x: 'lastletter_' + str(x))], axis=1)"
   ]
  },
  {
   "cell_type": "code",
   "execution_count": 18,
   "metadata": {
    "collapsed": true
   },
   "outputs": [],
   "source": [
    "df_pre_all = pd.concat([df_pre_all, pd.get_dummies(df_pre_all['operation']).\\\n",
    "                        rename(columns=lambda x: 'operation_' + str(x))], axis=1)"
   ]
  },
  {
   "cell_type": "code",
   "execution_count": 20,
   "metadata": {
    "collapsed": false
   },
   "outputs": [],
   "source": [
    "df_pre_all['Gene_count'] = df_pre_all.apply(lambda x: str(x['CleanText']).count(str(x['Gene'])), axis=1)"
   ]
  },
  {
   "cell_type": "code",
   "execution_count": 21,
   "metadata": {
    "collapsed": true
   },
   "outputs": [],
   "source": [
    "df_pre_all['var_count'] = df_pre_all.apply(lambda x: str(x['CleanText']).count(str(x['first_letter'])+\\\n",
    "                                                            str(x['location_number'])+str(x['last_letter'])), axis=1)"
   ]
  },
  {
   "cell_type": "code",
   "execution_count": 22,
   "metadata": {
    "collapsed": false
   },
   "outputs": [],
   "source": [
    "df_pre_all['font_var_count'] = df_pre_all.apply(lambda x: str(x['CleanText']).count(str(x['first_letter'])+\\\n",
    "                                                            str(x['location_number'])), axis=1)"
   ]
  },
  {
   "cell_type": "code",
   "execution_count": 23,
   "metadata": {
    "collapsed": true
   },
   "outputs": [],
   "source": [
    "df_pre_all['last_var_count'] = df_pre_all.apply(lambda x: str(x['CleanText']).count(str(x['location_number'])+\\\n",
    "                                                            str(x['last_letter'])), axis=1)"
   ]
  },
  {
   "cell_type": "code",
   "execution_count": 24,
   "metadata": {
    "collapsed": true
   },
   "outputs": [],
   "source": [
    "# get operation count\n",
    "truncating_list = ['trunc']\n",
    "delins_list = ['insertion/deletion','deletion/insertion','delins']\n",
    "fusion_list = ['fusion']\n",
    "deletion_list = ['deletion']\n",
    "ins_list = ['insertion']\n",
    "amplification_list = ['amplifica']\n",
    "overexpression_list = ['overexpress']\n",
    "splice_list = ['splice']\n",
    "duplication_list = ['duplicat']\n",
    "substitution_list = ['substitut']\n",
    "\n",
    "operation_dict = {'truncating':truncating_list, 'delins':delins_list,'fusion':fusion_list, \\\n",
    "                  'deletion':deletion_list, 'insertion':ins_list, 'amplification':amplification_list, \\\n",
    "'overexpression':overexpression_list,'splice':splice_list,'duplication':duplication_list,'substitution':substitution_list}\n",
    "\n",
    "def get_oper_count(doc, operation):\n",
    "    count = 0\n",
    "    if operation != 'other':\n",
    "        for x in operation_dict[operation]:\n",
    "            count += doc.count(x)\n",
    "    return count"
   ]
  },
  {
   "cell_type": "code",
   "execution_count": 25,
   "metadata": {
    "collapsed": false
   },
   "outputs": [],
   "source": [
    "df_pre_all['oper_count'] = df_pre_all.apply(lambda x: get_oper_count(str(x['CleanText']),str(x['operation'])), axis=1)"
   ]
  },
  {
   "cell_type": "code",
   "execution_count": 26,
   "metadata": {
    "collapsed": true
   },
   "outputs": [],
   "source": [
    "# get othertxt count\n",
    "\n",
    "def get_othertxt_count(doc,othertxt):\n",
    "    count = 0\n",
    "    if othertxt != 'none':\n",
    "        for x in othertxt.split(' '):\n",
    "            count += doc.count(x)\n",
    "    return count"
   ]
  },
  {
   "cell_type": "code",
   "execution_count": 27,
   "metadata": {
    "collapsed": false
   },
   "outputs": [],
   "source": [
    "df_pre_all['other_count'] = df_pre_all.apply(lambda x: get_othertxt_count(str(x['CleanText']),str(x['other_text'])), axis=1)"
   ]
  },
  {
   "cell_type": "code",
   "execution_count": 15,
   "metadata": {
    "collapsed": true
   },
   "outputs": [],
   "source": [
    "# combine var\n",
    "def combinevar(first,middle,last):\n",
    "    if middle == 0:\n",
    "        return 'none'\n",
    "    elif last == 'none':\n",
    "        return str(first)+str(middle)\n",
    "    elif first == 'none':\n",
    "        return 'null'+str(middle)+str(last)\n",
    "    else:\n",
    "        return str(first)+str(middle)+str(last)\n",
    "    "
   ]
  },
  {
   "cell_type": "code",
   "execution_count": 16,
   "metadata": {
    "collapsed": false
   },
   "outputs": [],
   "source": [
    "df_pre_all['temp_var'] = df_pre_all.apply(lambda x: combinevar(x['first_letter'],x['location_number'],x['last_letter']), axis=1)"
   ]
  },
  {
   "cell_type": "code",
   "execution_count": 17,
   "metadata": {
    "collapsed": false
   },
   "outputs": [
    {
     "name": "stdout",
     "output_type": "stream",
     "text": [
      "3137\n"
     ]
    }
   ],
   "source": [
    "#gen_var_lst  in train \n",
    "gen_var_lst = sorted(list(df_pre_all[:train_len].Gene.unique()) + list(df_pre_all[:train_len].temp_var.unique()))\n",
    "print(len(gen_var_lst))"
   ]
  },
  {
   "cell_type": "code",
   "execution_count": 18,
   "metadata": {
    "collapsed": false
   },
   "outputs": [
    {
     "name": "stdout",
     "output_type": "stream",
     "text": [
      "3136\n"
     ]
    }
   ],
   "source": [
    "gen_var_lst.remove('none')\n",
    "print(len(gen_var_lst))"
   ]
  },
  {
   "cell_type": "code",
   "execution_count": 61,
   "metadata": {
    "collapsed": true
   },
   "outputs": [],
   "source": [
    "gen_var_str_convert = ' '.join(gen_var_lst)\n",
    "def save(filename, contents): \n",
    "    fh = open(filename, 'w') \n",
    "    fh.write(contents) \n",
    "    fh.close() \n",
    "save(dir+'/5 middle for stage2/gen_var_str.txt', gen_var_str_convert) "
   ]
  },
  {
   "cell_type": "code",
   "execution_count": 19,
   "metadata": {
    "collapsed": true
   },
   "outputs": [],
   "source": [
    "import pickle\n",
    "pickle.dump(gen_var_lst, open(dir+'/5 middle for stage2/'+'gen_var_lst', 'wb'))"
   ]
  },
  {
   "cell_type": "code",
   "execution_count": 63,
   "metadata": {
    "collapsed": false
   },
   "outputs": [
    {
     "data": {
      "text/html": [
       "<div>\n",
       "<style>\n",
       "    .dataframe thead tr:only-child th {\n",
       "        text-align: right;\n",
       "    }\n",
       "\n",
       "    .dataframe thead th {\n",
       "        text-align: left;\n",
       "    }\n",
       "\n",
       "    .dataframe tbody tr th {\n",
       "        vertical-align: top;\n",
       "    }\n",
       "</style>\n",
       "<table border=\"1\" class=\"dataframe\">\n",
       "  <thead>\n",
       "    <tr style=\"text-align: right;\">\n",
       "      <th></th>\n",
       "      <th>location_number</th>\n",
       "      <th>CleanText</th>\n",
       "      <th>Gene_lbl_enc</th>\n",
       "      <th>Gene_len</th>\n",
       "      <th>Variation_lbl_enc</th>\n",
       "      <th>Variation_len</th>\n",
       "      <th>Variation_words</th>\n",
       "      <th>other_text_len</th>\n",
       "      <th>other_text_words</th>\n",
       "      <th>CleanText_len</th>\n",
       "      <th>...</th>\n",
       "      <th>operation_overexpression</th>\n",
       "      <th>operation_splice</th>\n",
       "      <th>operation_substitution</th>\n",
       "      <th>operation_truncating</th>\n",
       "      <th>Gene_count</th>\n",
       "      <th>var_count</th>\n",
       "      <th>font_var_count</th>\n",
       "      <th>last_var_count</th>\n",
       "      <th>oper_count</th>\n",
       "      <th>other_count</th>\n",
       "    </tr>\n",
       "  </thead>\n",
       "  <tbody>\n",
       "    <tr>\n",
       "      <th>4303</th>\n",
       "      <td>580</td>\n",
       "      <td>iκb kinase ikkβ involve tumor development prog...</td>\n",
       "      <td>381</td>\n",
       "      <td>4</td>\n",
       "      <td>3220</td>\n",
       "      <td>5</td>\n",
       "      <td>1</td>\n",
       "      <td>4</td>\n",
       "      <td>1</td>\n",
       "      <td>40417</td>\n",
       "      <td>...</td>\n",
       "      <td>0</td>\n",
       "      <td>0</td>\n",
       "      <td>1</td>\n",
       "      <td>0</td>\n",
       "      <td>0</td>\n",
       "      <td>63</td>\n",
       "      <td>63</td>\n",
       "      <td>63</td>\n",
       "      <td>2</td>\n",
       "      <td>0</td>\n",
       "    </tr>\n",
       "    <tr>\n",
       "      <th>4304</th>\n",
       "      <td>672</td>\n",
       "      <td>identification subtype-specific translocation ...</td>\n",
       "      <td>320</td>\n",
       "      <td>5</td>\n",
       "      <td>2919</td>\n",
       "      <td>5</td>\n",
       "      <td>1</td>\n",
       "      <td>4</td>\n",
       "      <td>1</td>\n",
       "      <td>40554</td>\n",
       "      <td>...</td>\n",
       "      <td>0</td>\n",
       "      <td>0</td>\n",
       "      <td>1</td>\n",
       "      <td>0</td>\n",
       "      <td>0</td>\n",
       "      <td>101</td>\n",
       "      <td>101</td>\n",
       "      <td>101</td>\n",
       "      <td>1</td>\n",
       "      <td>0</td>\n",
       "    </tr>\n",
       "    <tr>\n",
       "      <th>4305</th>\n",
       "      <td>581</td>\n",
       "      <td>cardio-facio-cutaneous cfc syndrome mim congen...</td>\n",
       "      <td>50</td>\n",
       "      <td>4</td>\n",
       "      <td>2162</td>\n",
       "      <td>5</td>\n",
       "      <td>1</td>\n",
       "      <td>4</td>\n",
       "      <td>1</td>\n",
       "      <td>46680</td>\n",
       "      <td>...</td>\n",
       "      <td>0</td>\n",
       "      <td>0</td>\n",
       "      <td>1</td>\n",
       "      <td>0</td>\n",
       "      <td>144</td>\n",
       "      <td>0</td>\n",
       "      <td>6</td>\n",
       "      <td>0</td>\n",
       "      <td>17</td>\n",
       "      <td>0</td>\n",
       "    </tr>\n",
       "    <tr>\n",
       "      <th>4306</th>\n",
       "      <td>281</td>\n",
       "      <td>screen tumor suppressor gene breast cancer rev...</td>\n",
       "      <td>386</td>\n",
       "      <td>4</td>\n",
       "      <td>3141</td>\n",
       "      <td>5</td>\n",
       "      <td>1</td>\n",
       "      <td>4</td>\n",
       "      <td>1</td>\n",
       "      <td>17892</td>\n",
       "      <td>...</td>\n",
       "      <td>0</td>\n",
       "      <td>0</td>\n",
       "      <td>1</td>\n",
       "      <td>0</td>\n",
       "      <td>0</td>\n",
       "      <td>28</td>\n",
       "      <td>28</td>\n",
       "      <td>28</td>\n",
       "      <td>0</td>\n",
       "      <td>0</td>\n",
       "    </tr>\n",
       "    <tr>\n",
       "      <th>4307</th>\n",
       "      <td>180</td>\n",
       "      <td>histiocytic neoplasm clonal hematopoietic diso...</td>\n",
       "      <td>24</td>\n",
       "      <td>4</td>\n",
       "      <td>3071</td>\n",
       "      <td>5</td>\n",
       "      <td>1</td>\n",
       "      <td>4</td>\n",
       "      <td>1</td>\n",
       "      <td>40515</td>\n",
       "      <td>...</td>\n",
       "      <td>0</td>\n",
       "      <td>0</td>\n",
       "      <td>1</td>\n",
       "      <td>0</td>\n",
       "      <td>0</td>\n",
       "      <td>57</td>\n",
       "      <td>57</td>\n",
       "      <td>57</td>\n",
       "      <td>1</td>\n",
       "      <td>0</td>\n",
       "    </tr>\n",
       "  </tbody>\n",
       "</table>\n",
       "<p>5 rows × 70 columns</p>\n",
       "</div>"
      ],
      "text/plain": [
       "      location_number                                          CleanText  \\\n",
       "4303              580  iκb kinase ikkβ involve tumor development prog...   \n",
       "4304              672  identification subtype-specific translocation ...   \n",
       "4305              581  cardio-facio-cutaneous cfc syndrome mim congen...   \n",
       "4306              281  screen tumor suppressor gene breast cancer rev...   \n",
       "4307              180  histiocytic neoplasm clonal hematopoietic diso...   \n",
       "\n",
       "      Gene_lbl_enc  Gene_len  Variation_lbl_enc  Variation_len  \\\n",
       "4303           381         4               3220              5   \n",
       "4304           320         5               2919              5   \n",
       "4305            50         4               2162              5   \n",
       "4306           386         4               3141              5   \n",
       "4307            24         4               3071              5   \n",
       "\n",
       "      Variation_words  other_text_len  other_text_words  CleanText_len  \\\n",
       "4303                1               4                 1          40417   \n",
       "4304                1               4                 1          40554   \n",
       "4305                1               4                 1          46680   \n",
       "4306                1               4                 1          17892   \n",
       "4307                1               4                 1          40515   \n",
       "\n",
       "         ...       operation_overexpression  operation_splice  \\\n",
       "4303     ...                              0                 0   \n",
       "4304     ...                              0                 0   \n",
       "4305     ...                              0                 0   \n",
       "4306     ...                              0                 0   \n",
       "4307     ...                              0                 0   \n",
       "\n",
       "      operation_substitution  operation_truncating  Gene_count  var_count  \\\n",
       "4303                       1                     0           0         63   \n",
       "4304                       1                     0           0        101   \n",
       "4305                       1                     0         144          0   \n",
       "4306                       1                     0           0         28   \n",
       "4307                       1                     0           0         57   \n",
       "\n",
       "      font_var_count  last_var_count  oper_count  other_count  \n",
       "4303              63              63           2            0  \n",
       "4304             101             101           1            0  \n",
       "4305               6               0          17            0  \n",
       "4306              28              28           0            0  \n",
       "4307              57              57           1            0  \n",
       "\n",
       "[5 rows x 70 columns]"
      ]
     },
     "execution_count": 63,
     "metadata": {},
     "output_type": "execute_result"
    }
   ],
   "source": [
    "df_done = df_pre_all.drop(['temp_var','ID','Gene','Variation','first_letter','last_letter','operation',\\\n",
    "                          'other_text'],axis=1)\n",
    "df_done.tail()"
   ]
  },
  {
   "cell_type": "code",
   "execution_count": 64,
   "metadata": {
    "collapsed": true
   },
   "outputs": [],
   "source": [
    "import pickle\n",
    "pickle.dump(df_done, open(dir+'/5 middle for stage2/'+'onehotvar_cleantxt_data', 'wb'))"
   ]
  },
  {
   "cell_type": "code",
   "execution_count": null,
   "metadata": {
    "collapsed": true
   },
   "outputs": [],
   "source": []
  }
 ],
 "metadata": {
  "anaconda-cloud": {},
  "kernelspec": {
   "display_name": "Python [default]",
   "language": "python",
   "name": "python3"
  },
  "language_info": {
   "codemirror_mode": {
    "name": "ipython",
    "version": 3
   },
   "file_extension": ".py",
   "mimetype": "text/x-python",
   "name": "python",
   "nbconvert_exporter": "python",
   "pygments_lexer": "ipython3",
   "version": "3.5.2"
  }
 },
 "nbformat": 4,
 "nbformat_minor": 1
}
